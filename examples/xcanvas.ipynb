{
 "cells": [
  {
   "cell_type": "code",
   "execution_count": null,
   "id": "a05a9027",
   "metadata": {},
   "outputs": [],
   "source": [
    "#include<sstream>"
   ]
  },
  {
   "cell_type": "code",
   "execution_count": null,
   "id": "91996cea",
   "metadata": {},
   "outputs": [],
   "source": [
    "#include \"xcanvas/xcanvas.hpp\""
   ]
  },
  {
   "cell_type": "code",
   "execution_count": null,
   "id": "1795b034",
   "metadata": {},
   "outputs": [],
   "source": [
    "auto canvas = xc::canvas().initialize()\n",
    "    .width(300)\n",
    "    .height(300)\n",
    "    .finalize();\n",
    "\n",
    "canvas.fill_rect(0, 0, 50, 50);\n",
    "\n",
    "canvas"
   ]
  },
  {
   "cell_type": "code",
   "execution_count": null,
   "id": "63807303",
   "metadata": {},
   "outputs": [],
   "source": [
    "canvas.fill_rect(100, 100, 50, 50)"
   ]
  },
  {
   "cell_type": "code",
   "execution_count": null,
   "id": "4c638186",
   "metadata": {},
   "outputs": [],
   "source": [
    "canvas.clear()"
   ]
  },
  {
   "cell_type": "code",
   "execution_count": null,
   "id": "1d385bbc",
   "metadata": {},
   "outputs": [],
   "source": [
    "canvas.width = 200;\n",
    "canvas.height = 200;"
   ]
  },
  {
   "cell_type": "code",
   "execution_count": null,
   "id": "b4853e8c",
   "metadata": {},
   "outputs": [],
   "source": [
    "canvas.fill_style = \"red\";\n",
    "canvas.fill_rect(100, 100, 50, 50);"
   ]
  },
  {
   "cell_type": "code",
   "execution_count": null,
   "id": "35f8d197",
   "metadata": {},
   "outputs": [],
   "source": [
    "canvas.cache();\n",
    "for (std::size_t i=0; i<200; i++)\n",
    "{\n",
    "    std::stringstream color;\n",
    "    color << \"rgb(200, \" << 200 - i << \", \" << i << \")\";\n",
    "    canvas.fill_style = color.str();\n",
    "\n",
    "    canvas.fill_rect(0, 0, 200, 200 - i);\n",
    "}\n",
    "canvas.flush();"
   ]
  }
 ],
 "metadata": {
  "kernelspec": {
   "display_name": "C++14",
   "language": "C++14",
   "name": "xcpp14"
  },
  "language_info": {
   "codemirror_mode": "text/x-c++src",
   "file_extension": ".cpp",
   "mimetype": "text/x-c++src",
   "name": "c++",
   "version": "14"
  }
 },
 "nbformat": 4,
 "nbformat_minor": 5
}
