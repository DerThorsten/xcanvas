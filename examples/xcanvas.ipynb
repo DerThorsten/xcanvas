{
 "cells": [
  {
   "cell_type": "code",
   "execution_count": null,
   "id": "91996cea",
   "metadata": {},
   "outputs": [],
   "source": [
    "#include \"xcanvas/xcanvas.hpp\""
   ]
  },
  {
   "cell_type": "code",
   "execution_count": null,
   "id": "1795b034",
   "metadata": {},
   "outputs": [],
   "source": [
    "auto canvas = xc::canvas().initialize()\n",
    "    .width(300)\n",
    "    .height(300)\n",
    "    .finalize();\n",
    "canvas"
   ]
  },
  {
   "cell_type": "code",
   "execution_count": null,
   "id": "418002c6",
   "metadata": {},
   "outputs": [],
   "source": [
    "canvas.fill_rect(0, 0, 50, 50)"
   ]
  },
  {
   "cell_type": "code",
   "execution_count": null,
   "id": "26d81b01",
   "metadata": {},
   "outputs": [],
   "source": [
    "canvas.fill_rect(100, 100, 50, 50)"
   ]
  }
 ],
 "metadata": {
  "kernelspec": {
   "display_name": "C++14",
   "language": "C++14",
   "name": "xcpp14"
  },
  "language_info": {
   "codemirror_mode": "text/x-c++src",
   "file_extension": ".cpp",
   "mimetype": "text/x-c++src",
   "name": "c++",
   "version": "14"
  }
 },
 "nbformat": 4,
 "nbformat_minor": 5
}
